{
 "cells": [
  {
   "cell_type": "code",
   "execution_count": 10,
   "outputs": [],
   "source": [
    "import pandas as pd\n",
    "import numpy as np\n",
    "from sklearn.metrics import cohen_kappa_score"
   ],
   "metadata": {
    "collapsed": false,
    "ExecuteTime": {
     "end_time": "2024-08-26T15:47:50.235481Z",
     "start_time": "2024-08-26T15:47:49.185794Z"
    }
   },
   "id": "6e186f43f0cbd5a6"
  },
  {
   "cell_type": "markdown",
   "source": [
    "## Evaluierung \n",
    "Nach der manuellen Bewertung der generierten Gegenreden enthält der Datensatz nun mehrere Spalten, die die Bewertungen der unterschiedlichen Aspekte der Gegenreden abbilden. Dazu gehören `Empathiefaktor`, `Faktentreue`, `Ton`, `Klarheit der Argumentation` und `erfolgreicher Einsatz von Storytelling-Elementen`. Jeder dieser Aspekte wurde auf einer Skala von 1 bis 5 bewertet, um eine quantitative Analyse der qualitativen Merkmale zu ermöglichen. Im Folgenden wird ein Ausschnitt der bewerteten Tabelle präsentiert."
   ],
   "metadata": {
    "collapsed": false
   },
   "id": "b6116d7979c21ce3"
  },
  {
   "cell_type": "code",
   "execution_count": 14,
   "outputs": [
    {
     "data": {
      "text/plain": "    comment_id                                       comment_text  \\\n0            6  FOURTEEN OCTOBER TWENTY TWENTY FOUR BEGIN THIR...   \n1            6  FOURTEEN OCTOBER TWENTY TWENTY FOUR BEGIN THIR...   \n2            6  FOURTEEN OCTOBER TWENTY TWENTY FOUR BEGIN THIR...   \n3            9  Wake up, sheeple!\\nBiden's just a puppet for t...   \n4            9  Wake up, sheeple!\\nBiden's just a puppet for t...   \n5            9  Wake up, sheeple!\\nBiden's just a puppet for t...   \n6           12  PATRIOTS TAP IN:\\nWe’re doing a nation wide gr...   \n7           12  PATRIOTS TAP IN:\\nWe’re doing a nation wide gr...   \n8           12  PATRIOTS TAP IN:\\nWe’re doing a nation wide gr...   \n9           15  It’s time to take over the digital  billboards...   \n10          15  It’s time to take over the digital  billboards...   \n11          15  It’s time to take over the digital  billboards...   \n12          18  Biden Crime Family: Another Dynasty of Corrupt...   \n13          18  Biden Crime Family: Another Dynasty of Corrupt...   \n14          18  Biden Crime Family: Another Dynasty of Corrupt...   \n\n                     model                                     counter_speech  \\\n0    counter_speech_gpt-4o  I can see where concerns about world events co...   \n1    counter_speech_llama3  I understand your concern about the date and t...   \n2   counter_speech_mistral  \"As a history buff like Neil deGrasse Tyson, I...   \n3    counter_speech_gpt-4o  It's understandable to feel concerned about th...   \n4    counter_speech_llama3  I understand your concerns about President Bid...   \n5   counter_speech_mistral  Hello there! It's understandable to feel unset...   \n6    counter_speech_gpt-4o  I appreciate the concern for the well-being of...   \n7    counter_speech_llama3  \"I understand the enthusiasm, but let's focus ...   \n8   counter_speech_mistral  In the heart of Washington D.C., Dr. Fauci, a ...   \n9    counter_speech_gpt-4o  I understand your passion and concern for the ...   \n10   counter_speech_llama3  I understand your frustration with the media a...   \n11  counter_speech_mistral   Martin Luther King Jr., a beacon of hope and ...   \n12   counter_speech_gpt-4o  I understand the frustration that can come wit...   \n13   counter_speech_llama3  I understand your concerns about the Biden adm...   \n14  counter_speech_mistral  \"Think about the everyday folks, not the 'Crim...   \n\n    empathy_factor  fidelity_to_facts  tone  clarity_of_argumentation  \\\n0                4                  4     5                         4   \n1                5                  3     5                         5   \n2                3                  3     4                         2   \n3                4                  4     5                         5   \n4                4                  4     5                         5   \n5                5                  4     5                         4   \n6                5                  4     5                         4   \n7                4                  3     4                         4   \n8                4                  3     5                         3   \n9                4                  5     5                         5   \n10               5                  5     5                         5   \n11               5                  3     5                         5   \n12               5                  4     5                         5   \n13               5                  5     5                         5   \n14               3                  2     3                         1   \n\n    successful_use_of_storytelling  \n0                              3.0  \n1                              4.0  \n2                              2.0  \n3                              3.0  \n4                              NaN  \n5                              NaN  \n6                              3.0  \n7                              NaN  \n8                              3.0  \n9                              4.0  \n10                             NaN  \n11                             4.0  \n12                             3.0  \n13                             NaN  \n14                             2.0  ",
      "text/html": "<div>\n<style scoped>\n    .dataframe tbody tr th:only-of-type {\n        vertical-align: middle;\n    }\n\n    .dataframe tbody tr th {\n        vertical-align: top;\n    }\n\n    .dataframe thead th {\n        text-align: right;\n    }\n</style>\n<table border=\"1\" class=\"dataframe\">\n  <thead>\n    <tr style=\"text-align: right;\">\n      <th></th>\n      <th>comment_id</th>\n      <th>comment_text</th>\n      <th>model</th>\n      <th>counter_speech</th>\n      <th>empathy_factor</th>\n      <th>fidelity_to_facts</th>\n      <th>tone</th>\n      <th>clarity_of_argumentation</th>\n      <th>successful_use_of_storytelling</th>\n    </tr>\n  </thead>\n  <tbody>\n    <tr>\n      <th>0</th>\n      <td>6</td>\n      <td>FOURTEEN OCTOBER TWENTY TWENTY FOUR BEGIN THIR...</td>\n      <td>counter_speech_gpt-4o</td>\n      <td>I can see where concerns about world events co...</td>\n      <td>4</td>\n      <td>4</td>\n      <td>5</td>\n      <td>4</td>\n      <td>3.0</td>\n    </tr>\n    <tr>\n      <th>1</th>\n      <td>6</td>\n      <td>FOURTEEN OCTOBER TWENTY TWENTY FOUR BEGIN THIR...</td>\n      <td>counter_speech_llama3</td>\n      <td>I understand your concern about the date and t...</td>\n      <td>5</td>\n      <td>3</td>\n      <td>5</td>\n      <td>5</td>\n      <td>4.0</td>\n    </tr>\n    <tr>\n      <th>2</th>\n      <td>6</td>\n      <td>FOURTEEN OCTOBER TWENTY TWENTY FOUR BEGIN THIR...</td>\n      <td>counter_speech_mistral</td>\n      <td>\"As a history buff like Neil deGrasse Tyson, I...</td>\n      <td>3</td>\n      <td>3</td>\n      <td>4</td>\n      <td>2</td>\n      <td>2.0</td>\n    </tr>\n    <tr>\n      <th>3</th>\n      <td>9</td>\n      <td>Wake up, sheeple!\\nBiden's just a puppet for t...</td>\n      <td>counter_speech_gpt-4o</td>\n      <td>It's understandable to feel concerned about th...</td>\n      <td>4</td>\n      <td>4</td>\n      <td>5</td>\n      <td>5</td>\n      <td>3.0</td>\n    </tr>\n    <tr>\n      <th>4</th>\n      <td>9</td>\n      <td>Wake up, sheeple!\\nBiden's just a puppet for t...</td>\n      <td>counter_speech_llama3</td>\n      <td>I understand your concerns about President Bid...</td>\n      <td>4</td>\n      <td>4</td>\n      <td>5</td>\n      <td>5</td>\n      <td>NaN</td>\n    </tr>\n    <tr>\n      <th>5</th>\n      <td>9</td>\n      <td>Wake up, sheeple!\\nBiden's just a puppet for t...</td>\n      <td>counter_speech_mistral</td>\n      <td>Hello there! It's understandable to feel unset...</td>\n      <td>5</td>\n      <td>4</td>\n      <td>5</td>\n      <td>4</td>\n      <td>NaN</td>\n    </tr>\n    <tr>\n      <th>6</th>\n      <td>12</td>\n      <td>PATRIOTS TAP IN:\\nWe’re doing a nation wide gr...</td>\n      <td>counter_speech_gpt-4o</td>\n      <td>I appreciate the concern for the well-being of...</td>\n      <td>5</td>\n      <td>4</td>\n      <td>5</td>\n      <td>4</td>\n      <td>3.0</td>\n    </tr>\n    <tr>\n      <th>7</th>\n      <td>12</td>\n      <td>PATRIOTS TAP IN:\\nWe’re doing a nation wide gr...</td>\n      <td>counter_speech_llama3</td>\n      <td>\"I understand the enthusiasm, but let's focus ...</td>\n      <td>4</td>\n      <td>3</td>\n      <td>4</td>\n      <td>4</td>\n      <td>NaN</td>\n    </tr>\n    <tr>\n      <th>8</th>\n      <td>12</td>\n      <td>PATRIOTS TAP IN:\\nWe’re doing a nation wide gr...</td>\n      <td>counter_speech_mistral</td>\n      <td>In the heart of Washington D.C., Dr. Fauci, a ...</td>\n      <td>4</td>\n      <td>3</td>\n      <td>5</td>\n      <td>3</td>\n      <td>3.0</td>\n    </tr>\n    <tr>\n      <th>9</th>\n      <td>15</td>\n      <td>It’s time to take over the digital  billboards...</td>\n      <td>counter_speech_gpt-4o</td>\n      <td>I understand your passion and concern for the ...</td>\n      <td>4</td>\n      <td>5</td>\n      <td>5</td>\n      <td>5</td>\n      <td>4.0</td>\n    </tr>\n    <tr>\n      <th>10</th>\n      <td>15</td>\n      <td>It’s time to take over the digital  billboards...</td>\n      <td>counter_speech_llama3</td>\n      <td>I understand your frustration with the media a...</td>\n      <td>5</td>\n      <td>5</td>\n      <td>5</td>\n      <td>5</td>\n      <td>NaN</td>\n    </tr>\n    <tr>\n      <th>11</th>\n      <td>15</td>\n      <td>It’s time to take over the digital  billboards...</td>\n      <td>counter_speech_mistral</td>\n      <td>Martin Luther King Jr., a beacon of hope and ...</td>\n      <td>5</td>\n      <td>3</td>\n      <td>5</td>\n      <td>5</td>\n      <td>4.0</td>\n    </tr>\n    <tr>\n      <th>12</th>\n      <td>18</td>\n      <td>Biden Crime Family: Another Dynasty of Corrupt...</td>\n      <td>counter_speech_gpt-4o</td>\n      <td>I understand the frustration that can come wit...</td>\n      <td>5</td>\n      <td>4</td>\n      <td>5</td>\n      <td>5</td>\n      <td>3.0</td>\n    </tr>\n    <tr>\n      <th>13</th>\n      <td>18</td>\n      <td>Biden Crime Family: Another Dynasty of Corrupt...</td>\n      <td>counter_speech_llama3</td>\n      <td>I understand your concerns about the Biden adm...</td>\n      <td>5</td>\n      <td>5</td>\n      <td>5</td>\n      <td>5</td>\n      <td>NaN</td>\n    </tr>\n    <tr>\n      <th>14</th>\n      <td>18</td>\n      <td>Biden Crime Family: Another Dynasty of Corrupt...</td>\n      <td>counter_speech_mistral</td>\n      <td>\"Think about the everyday folks, not the 'Crim...</td>\n      <td>3</td>\n      <td>2</td>\n      <td>3</td>\n      <td>1</td>\n      <td>2.0</td>\n    </tr>\n  </tbody>\n</table>\n</div>"
     },
     "execution_count": 14,
     "metadata": {},
     "output_type": "execute_result"
    }
   ],
   "source": [
    "# Load the evaluated dataset\n",
    "evaluated_samples = pd.read_csv('../data/evaluation/counterspeech_90_samples_evaluated.csv')\n",
    "evaluated_samples.head(15)"
   ],
   "metadata": {
    "collapsed": false,
    "ExecuteTime": {
     "end_time": "2024-08-28T11:18:35.616701Z",
     "start_time": "2024-08-28T11:18:35.179415Z"
    }
   },
   "id": "27a8465646a918e"
  },
  {
   "cell_type": "markdown",
   "source": [
    "### Statistische Konsistenzprüfung\n",
    "Nach der ersten Bewertungsrunde wird zur Sicherstellung der Bewertungskonsistenz eine zweite Runde durchgeführt. Dafür wird zunächst eine Stichprobe von 20 Gegenreden randomisiert aus dem Datensatz ausgewählt um diese erneut bewerten zu können. Dieser neue Datensatz wird abgespeichert um eine zweite Evaluierungsrunde durchzuführen.\n"
   ],
   "metadata": {
    "collapsed": false
   },
   "id": "b95a5bf92d55392d"
  },
  {
   "cell_type": "code",
   "execution_count": 15,
   "outputs": [
    {
     "data": {
      "text/plain": "    comment_id                                       comment_text  \\\n40          45  #BreakingNews : Trump’s Sending Deep State Eli...   \n22          27  Do you get paid to shill for vaccines?\\nOr are...   \n55          60  GOOD. Now it’s time to dismantle all those cor...   \n70          75  If #DrDavidMorens was Republican this email wo...   \n0            6  FOURTEEN OCTOBER TWENTY TWENTY FOUR BEGIN THIR...   \n26          30  WE KNOW THE CIA COINED THE TERM “CONSPIRACY TH...   \n39          45  #BreakingNews : Trump’s Sending Deep State Eli...   \n65          69  #CovidCoverUp Fauci's and his gang are Serial ...   \n10          15  It’s time to take over the digital  billboards...   \n44          48  Issue is Christian Zionists want an Israel as ...   \n\n                     model                                     counter_speech  \\\n40  counter_speech_mistral  Ah, the buzz about Trump sending deep state el...   \n22   counter_speech_gpt-4o  I understand your concern, and it’s important ...   \n55   counter_speech_gpt-4o  I understand the frustration of feeling deceiv...   \n70  counter_speech_mistral  Acting as a fact-driven researcher, I'd like t...   \n0    counter_speech_gpt-4o  I can see where concerns about world events co...   \n26   counter_speech_llama3  \"I understand the curiosity behind this questi...   \n39   counter_speech_gpt-4o  I understand how alarming this information mig...   \n65  counter_speech_mistral  \"Imagine Dr. Fauci, a humble public servant, t...   \n10   counter_speech_gpt-4o  I understand your passion and concern for the ...   \n44  counter_speech_mistral  \"Let's journey into the world of real-life lea...   \n\n    empathy_factor  fidelity_to_facts  tone  clarity_of_argumentation  \\\n40             NaN                NaN   NaN                       NaN   \n22             NaN                NaN   NaN                       NaN   \n55             NaN                NaN   NaN                       NaN   \n70             NaN                NaN   NaN                       NaN   \n0              NaN                NaN   NaN                       NaN   \n26             NaN                NaN   NaN                       NaN   \n39             NaN                NaN   NaN                       NaN   \n65             NaN                NaN   NaN                       NaN   \n10             NaN                NaN   NaN                       NaN   \n44             NaN                NaN   NaN                       NaN   \n\n    successful_use_of_storytelling  \n40                             NaN  \n22                             NaN  \n55                             NaN  \n70                             NaN  \n0                              NaN  \n26                             NaN  \n39                             NaN  \n65                             NaN  \n10                             NaN  \n44                             NaN  ",
      "text/html": "<div>\n<style scoped>\n    .dataframe tbody tr th:only-of-type {\n        vertical-align: middle;\n    }\n\n    .dataframe tbody tr th {\n        vertical-align: top;\n    }\n\n    .dataframe thead th {\n        text-align: right;\n    }\n</style>\n<table border=\"1\" class=\"dataframe\">\n  <thead>\n    <tr style=\"text-align: right;\">\n      <th></th>\n      <th>comment_id</th>\n      <th>comment_text</th>\n      <th>model</th>\n      <th>counter_speech</th>\n      <th>empathy_factor</th>\n      <th>fidelity_to_facts</th>\n      <th>tone</th>\n      <th>clarity_of_argumentation</th>\n      <th>successful_use_of_storytelling</th>\n    </tr>\n  </thead>\n  <tbody>\n    <tr>\n      <th>40</th>\n      <td>45</td>\n      <td>#BreakingNews : Trump’s Sending Deep State Eli...</td>\n      <td>counter_speech_mistral</td>\n      <td>Ah, the buzz about Trump sending deep state el...</td>\n      <td>NaN</td>\n      <td>NaN</td>\n      <td>NaN</td>\n      <td>NaN</td>\n      <td>NaN</td>\n    </tr>\n    <tr>\n      <th>22</th>\n      <td>27</td>\n      <td>Do you get paid to shill for vaccines?\\nOr are...</td>\n      <td>counter_speech_gpt-4o</td>\n      <td>I understand your concern, and it’s important ...</td>\n      <td>NaN</td>\n      <td>NaN</td>\n      <td>NaN</td>\n      <td>NaN</td>\n      <td>NaN</td>\n    </tr>\n    <tr>\n      <th>55</th>\n      <td>60</td>\n      <td>GOOD. Now it’s time to dismantle all those cor...</td>\n      <td>counter_speech_gpt-4o</td>\n      <td>I understand the frustration of feeling deceiv...</td>\n      <td>NaN</td>\n      <td>NaN</td>\n      <td>NaN</td>\n      <td>NaN</td>\n      <td>NaN</td>\n    </tr>\n    <tr>\n      <th>70</th>\n      <td>75</td>\n      <td>If #DrDavidMorens was Republican this email wo...</td>\n      <td>counter_speech_mistral</td>\n      <td>Acting as a fact-driven researcher, I'd like t...</td>\n      <td>NaN</td>\n      <td>NaN</td>\n      <td>NaN</td>\n      <td>NaN</td>\n      <td>NaN</td>\n    </tr>\n    <tr>\n      <th>0</th>\n      <td>6</td>\n      <td>FOURTEEN OCTOBER TWENTY TWENTY FOUR BEGIN THIR...</td>\n      <td>counter_speech_gpt-4o</td>\n      <td>I can see where concerns about world events co...</td>\n      <td>NaN</td>\n      <td>NaN</td>\n      <td>NaN</td>\n      <td>NaN</td>\n      <td>NaN</td>\n    </tr>\n    <tr>\n      <th>26</th>\n      <td>30</td>\n      <td>WE KNOW THE CIA COINED THE TERM “CONSPIRACY TH...</td>\n      <td>counter_speech_llama3</td>\n      <td>\"I understand the curiosity behind this questi...</td>\n      <td>NaN</td>\n      <td>NaN</td>\n      <td>NaN</td>\n      <td>NaN</td>\n      <td>NaN</td>\n    </tr>\n    <tr>\n      <th>39</th>\n      <td>45</td>\n      <td>#BreakingNews : Trump’s Sending Deep State Eli...</td>\n      <td>counter_speech_gpt-4o</td>\n      <td>I understand how alarming this information mig...</td>\n      <td>NaN</td>\n      <td>NaN</td>\n      <td>NaN</td>\n      <td>NaN</td>\n      <td>NaN</td>\n    </tr>\n    <tr>\n      <th>65</th>\n      <td>69</td>\n      <td>#CovidCoverUp Fauci's and his gang are Serial ...</td>\n      <td>counter_speech_mistral</td>\n      <td>\"Imagine Dr. Fauci, a humble public servant, t...</td>\n      <td>NaN</td>\n      <td>NaN</td>\n      <td>NaN</td>\n      <td>NaN</td>\n      <td>NaN</td>\n    </tr>\n    <tr>\n      <th>10</th>\n      <td>15</td>\n      <td>It’s time to take over the digital  billboards...</td>\n      <td>counter_speech_gpt-4o</td>\n      <td>I understand your passion and concern for the ...</td>\n      <td>NaN</td>\n      <td>NaN</td>\n      <td>NaN</td>\n      <td>NaN</td>\n      <td>NaN</td>\n    </tr>\n    <tr>\n      <th>44</th>\n      <td>48</td>\n      <td>Issue is Christian Zionists want an Israel as ...</td>\n      <td>counter_speech_mistral</td>\n      <td>\"Let's journey into the world of real-life lea...</td>\n      <td>NaN</td>\n      <td>NaN</td>\n      <td>NaN</td>\n      <td>NaN</td>\n      <td>NaN</td>\n    </tr>\n  </tbody>\n</table>\n</div>"
     },
     "execution_count": 15,
     "metadata": {},
     "output_type": "execute_result"
    }
   ],
   "source": [
    "sorted_melted_data = pd.read_csv('../data/evaluation/counterspeech_90_samples_to_evaluate.csv')\n",
    "\n",
    "# Set the random seed to ensure reproducibility\n",
    "np.random.seed(42)\n",
    "\n",
    "# Randomly select 20 entries without replacement\n",
    "sampled_data_2eval = sorted_melted_data.sample(n=20, replace=False)\n",
    "\n",
    "# Save the selected sample to a new CSV file\n",
    "sampled_data_2eval.to_csv('../data/evaluation/intra_rater_reliability_20samples_2eval_to_evaluate.csv', index=False)\n",
    "sampled_data_2eval.head(10)"
   ],
   "metadata": {
    "collapsed": false,
    "ExecuteTime": {
     "end_time": "2024-08-28T11:18:56.100741Z",
     "start_time": "2024-08-28T11:18:56.026652Z"
    }
   },
   "id": "8c0c8f0ce3ec35f"
  },
  {
   "cell_type": "markdown",
   "source": [
    "#### Zusammenführung der ersten und zweiten Evaluierungsrunde\n",
    "\n",
    "Nach der erneuten Bewertung müssen die Werte aus der 1. Evaluierungsrunde und aus der 2. Evaluierungsrunde zusammengeführt werden, um sie für die Berechnung des gewichteten Kappa-Koeffizienten vorzubereiten. Dazu verwenden wir die `comment_id` und das `model` als Schlüssel, um sicherzustellen, dass die Bewertungen jeder Gegenrede aus beiden Runden korrekt zugeordnet werden. Beide Datensätze enthalten dieselben Gegenreden, mit den jeweiligen Bewertungen aus den entsprechenden Evaluierungsrunden.\n",
    "\n",
    "Die relevanten Spalten (Bewertungskriterien) aus beiden Datensätzen werden extrahiert und entsprechend gekennzeichnet (als \"_first\" und \"_second\" für die erste und zweite Runde) und dann zusammengeführt."
   ],
   "metadata": {
    "collapsed": false
   },
   "id": "39ccf61fafc2c1f"
  },
  {
   "cell_type": "code",
   "execution_count": 16,
   "outputs": [
    {
     "data": {
      "text/plain": "   comment_id_first             model_first  empathy_factor_first  \\\n0                 6   counter_speech_gpt-4o                     4   \n1                 9   counter_speech_llama3                     4   \n2                15   counter_speech_gpt-4o                     4   \n3                18   counter_speech_llama3                     5   \n4                24   counter_speech_gpt-4o                     5   \n5                27   counter_speech_gpt-4o                     5   \n6                30   counter_speech_llama3                     5   \n7                33   counter_speech_gpt-4o                     4   \n8                39   counter_speech_gpt-4o                     4   \n9                45  counter_speech_mistral                     3   \n\n   fidelity_to_facts_first  tone_first  clarity_of_argumentation_first  \\\n0                        4           5                               4   \n1                        4           5                               5   \n2                        5           5                               5   \n3                        5           5                               5   \n4                        4           5                               5   \n5                        5           5                               5   \n6                        4           5                               4   \n7                        4           5                               5   \n8                        4           5                               5   \n9                        3           4                               3   \n\n   successful_use_of_storytelling_first  comment_id_second  \\\n0                                   3.0                  6   \n1                                   NaN                  9   \n2                                   4.0                 15   \n3                                   NaN                 18   \n4                                   4.0                 24   \n5                                   5.0                 27   \n6                                   NaN                 30   \n7                                   4.0                 33   \n8                                   4.0                 39   \n9                                   4.0                 45   \n\n             model_second  empathy_factor_second  fidelity_to_facts_second  \\\n0   counter_speech_gpt-4o                      5                         4   \n1   counter_speech_llama3                      4                         4   \n2   counter_speech_gpt-4o                      5                         5   \n3   counter_speech_llama3                      5                         5   \n4   counter_speech_gpt-4o                      5                         4   \n5   counter_speech_gpt-4o                      5                         5   \n6   counter_speech_llama3                      5                         4   \n7   counter_speech_gpt-4o                      4                         4   \n8   counter_speech_gpt-4o                      4                         4   \n9  counter_speech_mistral                      3                         3   \n\n   tone_second  clarity_of_argumentation_second  \\\n0            5                                4   \n1            5                                5   \n2            5                                5   \n3            5                                5   \n4            5                                4   \n5            5                                5   \n6            5                                4   \n7            5                                5   \n8            5                                5   \n9            4                                3   \n\n   successful_use_of_storytelling_second  \n0                                    3.0  \n1                                    NaN  \n2                                    5.0  \n3                                    NaN  \n4                                    4.0  \n5                                    5.0  \n6                                    NaN  \n7                                    4.0  \n8                                    4.0  \n9                                    4.0  ",
      "text/html": "<div>\n<style scoped>\n    .dataframe tbody tr th:only-of-type {\n        vertical-align: middle;\n    }\n\n    .dataframe tbody tr th {\n        vertical-align: top;\n    }\n\n    .dataframe thead th {\n        text-align: right;\n    }\n</style>\n<table border=\"1\" class=\"dataframe\">\n  <thead>\n    <tr style=\"text-align: right;\">\n      <th></th>\n      <th>comment_id_first</th>\n      <th>model_first</th>\n      <th>empathy_factor_first</th>\n      <th>fidelity_to_facts_first</th>\n      <th>tone_first</th>\n      <th>clarity_of_argumentation_first</th>\n      <th>successful_use_of_storytelling_first</th>\n      <th>comment_id_second</th>\n      <th>model_second</th>\n      <th>empathy_factor_second</th>\n      <th>fidelity_to_facts_second</th>\n      <th>tone_second</th>\n      <th>clarity_of_argumentation_second</th>\n      <th>successful_use_of_storytelling_second</th>\n    </tr>\n  </thead>\n  <tbody>\n    <tr>\n      <th>0</th>\n      <td>6</td>\n      <td>counter_speech_gpt-4o</td>\n      <td>4</td>\n      <td>4</td>\n      <td>5</td>\n      <td>4</td>\n      <td>3.0</td>\n      <td>6</td>\n      <td>counter_speech_gpt-4o</td>\n      <td>5</td>\n      <td>4</td>\n      <td>5</td>\n      <td>4</td>\n      <td>3.0</td>\n    </tr>\n    <tr>\n      <th>1</th>\n      <td>9</td>\n      <td>counter_speech_llama3</td>\n      <td>4</td>\n      <td>4</td>\n      <td>5</td>\n      <td>5</td>\n      <td>NaN</td>\n      <td>9</td>\n      <td>counter_speech_llama3</td>\n      <td>4</td>\n      <td>4</td>\n      <td>5</td>\n      <td>5</td>\n      <td>NaN</td>\n    </tr>\n    <tr>\n      <th>2</th>\n      <td>15</td>\n      <td>counter_speech_gpt-4o</td>\n      <td>4</td>\n      <td>5</td>\n      <td>5</td>\n      <td>5</td>\n      <td>4.0</td>\n      <td>15</td>\n      <td>counter_speech_gpt-4o</td>\n      <td>5</td>\n      <td>5</td>\n      <td>5</td>\n      <td>5</td>\n      <td>5.0</td>\n    </tr>\n    <tr>\n      <th>3</th>\n      <td>18</td>\n      <td>counter_speech_llama3</td>\n      <td>5</td>\n      <td>5</td>\n      <td>5</td>\n      <td>5</td>\n      <td>NaN</td>\n      <td>18</td>\n      <td>counter_speech_llama3</td>\n      <td>5</td>\n      <td>5</td>\n      <td>5</td>\n      <td>5</td>\n      <td>NaN</td>\n    </tr>\n    <tr>\n      <th>4</th>\n      <td>24</td>\n      <td>counter_speech_gpt-4o</td>\n      <td>5</td>\n      <td>4</td>\n      <td>5</td>\n      <td>5</td>\n      <td>4.0</td>\n      <td>24</td>\n      <td>counter_speech_gpt-4o</td>\n      <td>5</td>\n      <td>4</td>\n      <td>5</td>\n      <td>4</td>\n      <td>4.0</td>\n    </tr>\n    <tr>\n      <th>5</th>\n      <td>27</td>\n      <td>counter_speech_gpt-4o</td>\n      <td>5</td>\n      <td>5</td>\n      <td>5</td>\n      <td>5</td>\n      <td>5.0</td>\n      <td>27</td>\n      <td>counter_speech_gpt-4o</td>\n      <td>5</td>\n      <td>5</td>\n      <td>5</td>\n      <td>5</td>\n      <td>5.0</td>\n    </tr>\n    <tr>\n      <th>6</th>\n      <td>30</td>\n      <td>counter_speech_llama3</td>\n      <td>5</td>\n      <td>4</td>\n      <td>5</td>\n      <td>4</td>\n      <td>NaN</td>\n      <td>30</td>\n      <td>counter_speech_llama3</td>\n      <td>5</td>\n      <td>4</td>\n      <td>5</td>\n      <td>4</td>\n      <td>NaN</td>\n    </tr>\n    <tr>\n      <th>7</th>\n      <td>33</td>\n      <td>counter_speech_gpt-4o</td>\n      <td>4</td>\n      <td>4</td>\n      <td>5</td>\n      <td>5</td>\n      <td>4.0</td>\n      <td>33</td>\n      <td>counter_speech_gpt-4o</td>\n      <td>4</td>\n      <td>4</td>\n      <td>5</td>\n      <td>5</td>\n      <td>4.0</td>\n    </tr>\n    <tr>\n      <th>8</th>\n      <td>39</td>\n      <td>counter_speech_gpt-4o</td>\n      <td>4</td>\n      <td>4</td>\n      <td>5</td>\n      <td>5</td>\n      <td>4.0</td>\n      <td>39</td>\n      <td>counter_speech_gpt-4o</td>\n      <td>4</td>\n      <td>4</td>\n      <td>5</td>\n      <td>5</td>\n      <td>4.0</td>\n    </tr>\n    <tr>\n      <th>9</th>\n      <td>45</td>\n      <td>counter_speech_mistral</td>\n      <td>3</td>\n      <td>3</td>\n      <td>4</td>\n      <td>3</td>\n      <td>4.0</td>\n      <td>45</td>\n      <td>counter_speech_mistral</td>\n      <td>3</td>\n      <td>3</td>\n      <td>4</td>\n      <td>3</td>\n      <td>4.0</td>\n    </tr>\n  </tbody>\n</table>\n</div>"
     },
     "execution_count": 16,
     "metadata": {},
     "output_type": "execute_result"
    }
   ],
   "source": [
    "# Load sampled datasets from first and second round of evaluations\n",
    "data_first_eval = pd.read_csv('../data/evaluation/intra_rater_reliability_20samples_1eval.csv')\n",
    "data_second_eval = pd.read_csv('../data/evaluation/intra_rater_reliability_20samples_2eval.csv')\n",
    "\n",
    "# Rename columns for first and second round of evaluation for clear identification\n",
    "columns_to_use = ['empathy_factor', 'fidelity_to_facts', 'tone', 'clarity_of_argumentation', 'successful_use_of_storytelling']\n",
    "data_first_eval_renamed = data_first_eval[['comment_id', 'model'] + columns_to_use].add_suffix('_first')\n",
    "data_second_eval_renamed = data_second_eval[['comment_id', 'model'] + columns_to_use].add_suffix('_second')\n",
    "\n",
    "# Merge data on 'comment_id' and 'model'\n",
    "merged_data_kappa = pd.merge(data_first_eval_renamed, data_second_eval_renamed, left_on=['comment_id_first', 'model_first'], right_on=['comment_id_second', 'model_second'])\n",
    "\n",
    "# Show merged data\n",
    "merged_data_kappa.head(10)"
   ],
   "metadata": {
    "collapsed": false,
    "ExecuteTime": {
     "end_time": "2024-08-28T11:19:20.069139Z",
     "start_time": "2024-08-28T11:19:19.992163Z"
    }
   },
   "id": "621f60fd83ebebb1"
  },
  {
   "cell_type": "markdown",
   "source": [
    "### Berechnung des gewichteten Kappa-Koeffizienten:\n",
    "Nach der korrekten Zusammenführung der Daten können wir den gewichteten Kappa-Koeffizienten für jedes Bewertungskriterium berechnen. Dazu wird die Funktion cohen_kappa_score aus der Bibliothek sklearn.metrics verwendet."
   ],
   "metadata": {
    "collapsed": false
   },
   "id": "b775d9df24eacd2"
  },
  {
   "cell_type": "code",
   "execution_count": 13,
   "outputs": [
    {
     "data": {
      "text/plain": "{'empathy_factor': np.float64(0.849624060150376),\n 'fidelity_to_facts': np.float64(0.8780487804878049),\n 'tone': np.float64(1.0),\n 'clarity_of_argumentation': np.float64(0.8529411764705882),\n 'successful_use_of_storytelling': np.float64(0.9107142857142857)}"
     },
     "execution_count": 13,
     "metadata": {},
     "output_type": "execute_result"
    }
   ],
   "source": [
    "# Calculation of weighted Kappa for each evaluation criterion\n",
    "kappa_scores = {}\n",
    "for criterion in columns_to_use:\n",
    "    # Names of columns for first and second round\n",
    "    col_first = f'{criterion}_first'\n",
    "    col_second = f'{criterion}_second'\n",
    "    \n",
    "    # Replace missing values with 0 \n",
    "    ratings_first = merged_data_kappa[col_first].fillna(0)\n",
    "    ratings_second = merged_data_kappa[col_second].fillna(0)\n",
    "    \n",
    "    # Compute weighted Kappa\n",
    "    kappa = cohen_kappa_score(ratings_first, ratings_second, weights='linear')\n",
    "    kappa_scores[criterion] = kappa\n",
    "\n",
    "# Print Kappa scores\n",
    "kappa_scores"
   ],
   "metadata": {
    "collapsed": false,
    "ExecuteTime": {
     "end_time": "2024-08-26T15:50:36.030257Z",
     "start_time": "2024-08-26T15:50:35.998990Z"
    }
   },
   "id": "3391e02b36fcfc77"
  },
  {
   "cell_type": "code",
   "execution_count": null,
   "outputs": [],
   "source": [],
   "metadata": {
    "collapsed": false
   },
   "id": "914cff20abb13962"
  }
 ],
 "metadata": {
  "kernelspec": {
   "display_name": "Python 3",
   "language": "python",
   "name": "python3"
  },
  "language_info": {
   "codemirror_mode": {
    "name": "ipython",
    "version": 2
   },
   "file_extension": ".py",
   "mimetype": "text/x-python",
   "name": "python",
   "nbconvert_exporter": "python",
   "pygments_lexer": "ipython2",
   "version": "2.7.6"
  }
 },
 "nbformat": 4,
 "nbformat_minor": 5
}
