{
 "cells": [
  {
   "cell_type": "code",
   "execution_count": 2,
   "outputs": [],
   "source": [
    "import pandas as pd"
   ],
   "metadata": {
    "collapsed": false,
    "ExecuteTime": {
     "end_time": "2024-08-26T14:34:54.263035Z",
     "start_time": "2024-08-26T14:34:54.235176Z"
    }
   },
   "id": "53484b04e337b804"
  },
  {
   "cell_type": "markdown",
   "source": [
    "##  Datentransformation"
   ],
   "metadata": {
    "collapsed": false
   },
   "id": "f7b7ceaf0e3aa3dd"
  },
  {
   "cell_type": "markdown",
   "source": [
    "#### Zusammenführung der Datensätze\n",
    "\n",
    "Nachdem drei individuelle Datensätze mit verschwörungstheoretischen Kommentaren und den entsprechenden Gegenreden generiert wurden, erfolgt im nächsten Schritt die Konsolidierung dieser Datensätze. Ziel ist es, einen einheitlichen Datensatz zu erstellen. Das folgende Skript speichert die Gegenreden der drei Modelle zusammen in einer Tabelle ab."
   ],
   "metadata": {
    "collapsed": false
   },
   "id": "bf48cec2deb14de3"
  },
  {
   "cell_type": "code",
   "execution_count": 5,
   "outputs": [
    {
     "data": {
      "text/plain": "    comment_id             tweet_id  \\\n0            1  1782877166998331434   \n1            2  1733184143885025552   \n2            3  1783101908938322120   \n3            4  1782596239302721881   \n4            5  1782476196107911645   \n5            6  1782499781572739564   \n6            7  1781880739644211452   \n7            8  1782796945582612869   \n8            9  1781568827693965722   \n9           10  1781737844349817116   \n10          11  1780000959520980996   \n11          12  1780467566479126845   \n12          13  1783256557297233992   \n13          14  1782202911503864173   \n14          15  1780332562356768852   \n\n                                         comment_text  \\\n0   Keep this in mind:\\nRussia is destroying democ...   \n1   FIFTH NOVEMBER TWENTY TWENTY FOUR DONALD TRUMP...   \n2   Just a reminder, #PizzaGate was not made up by...   \n3   The same strategy they used to \"debunk\" #QAnon...   \n4   958/-- New Prediction Date for World War 3--- ...   \n5   FOURTEEN OCTOBER TWENTY TWENTY FOUR BEGIN THIR...   \n6   QFS = CBDC = 666 The mark of BEAST financial s...   \n7   Fact: Brainwashed deep state operatives are ma...   \n8   Wake up, sheeple!\\nBiden's just a puppet for t...   \n9   Most can't see what's right in front of their ...   \n10  The upcoming movie will not be for everyone. T...   \n11  PATRIOTS TAP IN:\\nWe’re doing a nation wide gr...   \n12  Anyone stealing from the public government pur...   \n13  Liberals want to take away our #SecondAmendmen...   \n14  It’s time to take over the digital  billboards...   \n\n                                counter_speech_gpt-4o  \\\n0   I understand your concerns about safeguarding ...   \n1   I understand that the future can bring a lot o...   \n2   I understand that topics like this can underst...   \n3   I understand the concern about misinformation,...   \n4   I can understand how predictions can capture o...   \n5   I can see where concerns about world events co...   \n6   I understand that discussions around financial...   \n7   I understand your concerns—it can feel overpow...   \n8   It's understandable to feel concerned about th...   \n9   Eight years ago, I, too, embarked on a quest f...   \n10  I get that you're feeling cautious about upcom...   \n11  I appreciate the concern for the well-being of...   \n12  I understand the frustration that drives this ...   \n13  I understand your concerns about protecting ri...   \n14  I understand your passion and concern for the ...   \n\n                                counter_speech_llama3  \\\n0   I understand your concern about the perceived ...   \n1   I understand your concern about the recent eve...   \n2   I understand your concern, but let's take a cl...   \n3   I understand your concern about the potential ...   \n4   I understand your concern about the prediction...   \n5   I understand your concern about the date and t...   \n6   I understand your concerns about the potential...   \n7   I understand your concern about the integrity ...   \n8   I understand your concerns about President Bid...   \n9   I understand your enthusiasm for the idea of a...   \n10  I understand your concerns about the upcoming ...   \n11  \"I understand the enthusiasm, but let's focus ...   \n12  I understand your frustration with government ...   \n13  \"I understand your concern for your Second Ame...   \n14  I understand your frustration with the media a...   \n\n                               counter_speech_mistral  \n0   In the spirit of American resilience, let's re...  \n1   In a world painted with the brushstrokes of hi...  \n2   John Pedestrian, like many high-profile indivi...  \n3    Ah, the intriguing dance of truth and specula...  \n4   \"Imagine, if you will, a world where unity and...  \n5   \"As a history buff like Neil deGrasse Tyson, I...  \n6   In the grand tapestry of human history, we fin...  \n7   \"A beacon of democracy, America... Though some...  \n8   Hello there! It's understandable to feel unset...  \n9   Hello there, I remember the time when I wasn't...  \n10  In the realm of cinephiles, the anticipation f...  \n11  In the heart of Washington D.C., Dr. Fauci, a ...  \n12  \"Imagine, if you will, Abraham Lincoln, a pres...  \n13  Alright, fellow patriots! Let me share a story...  \n14   Martin Luther King Jr., a beacon of hope and ...  ",
      "text/html": "<div>\n<style scoped>\n    .dataframe tbody tr th:only-of-type {\n        vertical-align: middle;\n    }\n\n    .dataframe tbody tr th {\n        vertical-align: top;\n    }\n\n    .dataframe thead th {\n        text-align: right;\n    }\n</style>\n<table border=\"1\" class=\"dataframe\">\n  <thead>\n    <tr style=\"text-align: right;\">\n      <th></th>\n      <th>comment_id</th>\n      <th>tweet_id</th>\n      <th>comment_text</th>\n      <th>counter_speech_gpt-4o</th>\n      <th>counter_speech_llama3</th>\n      <th>counter_speech_mistral</th>\n    </tr>\n  </thead>\n  <tbody>\n    <tr>\n      <th>0</th>\n      <td>1</td>\n      <td>1782877166998331434</td>\n      <td>Keep this in mind:\\nRussia is destroying democ...</td>\n      <td>I understand your concerns about safeguarding ...</td>\n      <td>I understand your concern about the perceived ...</td>\n      <td>In the spirit of American resilience, let's re...</td>\n    </tr>\n    <tr>\n      <th>1</th>\n      <td>2</td>\n      <td>1733184143885025552</td>\n      <td>FIFTH NOVEMBER TWENTY TWENTY FOUR DONALD TRUMP...</td>\n      <td>I understand that the future can bring a lot o...</td>\n      <td>I understand your concern about the recent eve...</td>\n      <td>In a world painted with the brushstrokes of hi...</td>\n    </tr>\n    <tr>\n      <th>2</th>\n      <td>3</td>\n      <td>1783101908938322120</td>\n      <td>Just a reminder, #PizzaGate was not made up by...</td>\n      <td>I understand that topics like this can underst...</td>\n      <td>I understand your concern, but let's take a cl...</td>\n      <td>John Pedestrian, like many high-profile indivi...</td>\n    </tr>\n    <tr>\n      <th>3</th>\n      <td>4</td>\n      <td>1782596239302721881</td>\n      <td>The same strategy they used to \"debunk\" #QAnon...</td>\n      <td>I understand the concern about misinformation,...</td>\n      <td>I understand your concern about the potential ...</td>\n      <td>Ah, the intriguing dance of truth and specula...</td>\n    </tr>\n    <tr>\n      <th>4</th>\n      <td>5</td>\n      <td>1782476196107911645</td>\n      <td>958/-- New Prediction Date for World War 3--- ...</td>\n      <td>I can understand how predictions can capture o...</td>\n      <td>I understand your concern about the prediction...</td>\n      <td>\"Imagine, if you will, a world where unity and...</td>\n    </tr>\n    <tr>\n      <th>5</th>\n      <td>6</td>\n      <td>1782499781572739564</td>\n      <td>FOURTEEN OCTOBER TWENTY TWENTY FOUR BEGIN THIR...</td>\n      <td>I can see where concerns about world events co...</td>\n      <td>I understand your concern about the date and t...</td>\n      <td>\"As a history buff like Neil deGrasse Tyson, I...</td>\n    </tr>\n    <tr>\n      <th>6</th>\n      <td>7</td>\n      <td>1781880739644211452</td>\n      <td>QFS = CBDC = 666 The mark of BEAST financial s...</td>\n      <td>I understand that discussions around financial...</td>\n      <td>I understand your concerns about the potential...</td>\n      <td>In the grand tapestry of human history, we fin...</td>\n    </tr>\n    <tr>\n      <th>7</th>\n      <td>8</td>\n      <td>1782796945582612869</td>\n      <td>Fact: Brainwashed deep state operatives are ma...</td>\n      <td>I understand your concerns—it can feel overpow...</td>\n      <td>I understand your concern about the integrity ...</td>\n      <td>\"A beacon of democracy, America... Though some...</td>\n    </tr>\n    <tr>\n      <th>8</th>\n      <td>9</td>\n      <td>1781568827693965722</td>\n      <td>Wake up, sheeple!\\nBiden's just a puppet for t...</td>\n      <td>It's understandable to feel concerned about th...</td>\n      <td>I understand your concerns about President Bid...</td>\n      <td>Hello there! It's understandable to feel unset...</td>\n    </tr>\n    <tr>\n      <th>9</th>\n      <td>10</td>\n      <td>1781737844349817116</td>\n      <td>Most can't see what's right in front of their ...</td>\n      <td>Eight years ago, I, too, embarked on a quest f...</td>\n      <td>I understand your enthusiasm for the idea of a...</td>\n      <td>Hello there, I remember the time when I wasn't...</td>\n    </tr>\n    <tr>\n      <th>10</th>\n      <td>11</td>\n      <td>1780000959520980996</td>\n      <td>The upcoming movie will not be for everyone. T...</td>\n      <td>I get that you're feeling cautious about upcom...</td>\n      <td>I understand your concerns about the upcoming ...</td>\n      <td>In the realm of cinephiles, the anticipation f...</td>\n    </tr>\n    <tr>\n      <th>11</th>\n      <td>12</td>\n      <td>1780467566479126845</td>\n      <td>PATRIOTS TAP IN:\\nWe’re doing a nation wide gr...</td>\n      <td>I appreciate the concern for the well-being of...</td>\n      <td>\"I understand the enthusiasm, but let's focus ...</td>\n      <td>In the heart of Washington D.C., Dr. Fauci, a ...</td>\n    </tr>\n    <tr>\n      <th>12</th>\n      <td>13</td>\n      <td>1783256557297233992</td>\n      <td>Anyone stealing from the public government pur...</td>\n      <td>I understand the frustration that drives this ...</td>\n      <td>I understand your frustration with government ...</td>\n      <td>\"Imagine, if you will, Abraham Lincoln, a pres...</td>\n    </tr>\n    <tr>\n      <th>13</th>\n      <td>14</td>\n      <td>1782202911503864173</td>\n      <td>Liberals want to take away our #SecondAmendmen...</td>\n      <td>I understand your concerns about protecting ri...</td>\n      <td>\"I understand your concern for your Second Ame...</td>\n      <td>Alright, fellow patriots! Let me share a story...</td>\n    </tr>\n    <tr>\n      <th>14</th>\n      <td>15</td>\n      <td>1780332562356768852</td>\n      <td>It’s time to take over the digital  billboards...</td>\n      <td>I understand your passion and concern for the ...</td>\n      <td>I understand your frustration with the media a...</td>\n      <td>Martin Luther King Jr., a beacon of hope and ...</td>\n    </tr>\n  </tbody>\n</table>\n</div>"
     },
     "execution_count": 5,
     "metadata": {},
     "output_type": "execute_result"
    }
   ],
   "source": [
    "# Load .csv files\n",
    "df_gpt4 = pd.read_csv('../data/counterspeech_dataset_gpt-4o.csv')\n",
    "df_llama3 = pd.read_csv('../data/counterspeech_dataset_llama3.csv')\n",
    "df_mistral = pd.read_csv('../data/counterspeech_dataset_mistral.csv')\n",
    "\n",
    "# Merge data columns\n",
    "df_merged = df_gpt4.merge(df_llama3, on=['comment_id', 'tweet_id', 'comment_text'], how='outer')\n",
    "df_merged = df_merged.merge(df_mistral, on=['comment_id', 'tweet_id', 'comment_text'], how='outer')\n",
    "\n",
    "# Save results in new file\n",
    "df_merged.to_csv('../data/counterspeech_responses_all_models.csv', index=False)\n",
    "\n",
    "# Check results\n",
    "df_merged.head(15)"
   ],
   "metadata": {
    "collapsed": false,
    "ExecuteTime": {
     "end_time": "2024-08-26T14:42:14.983512Z",
     "start_time": "2024-08-26T14:42:14.727331Z"
    }
   },
   "id": "39b67e95ebbcd237"
  },
  {
   "cell_type": "markdown",
   "source": [
    "#### Auswahl der Stichprobe \n",
    "Dieses Python-Skript erstellt einen neuen, kleineren Datensatz, der 30 Verschwörungstheorie-Kommentare und die dazugehörigen Gegenreden enthält. Die Stichprobe wird systematisch gezogen, indem jeder dritte Kommentar ausgewählt wird, beginnend bei der ID 6 bis zur ID 93. "
   ],
   "metadata": {
    "collapsed": false
   },
   "id": "31354f570c1961d1"
  },
  {
   "cell_type": "code",
   "execution_count": 14,
   "outputs": [
    {
     "data": {
      "text/plain": "    comment_id             tweet_id  \\\n5            6  1782499781572739564   \n8            9  1781568827693965722   \n11          12  1780467566479126845   \n14          15  1780332562356768852   \n17          18  1781689670503661784   \n20          21  1793570499446124852   \n23          24  1792917786236174787   \n26          27  1794952977985446366   \n29          30  1792228285360869479   \n32          33  1790012018985971975   \n\n                                         comment_text  \\\n5   FOURTEEN OCTOBER TWENTY TWENTY FOUR BEGIN THIR...   \n8   Wake up, sheeple!\\nBiden's just a puppet for t...   \n11  PATRIOTS TAP IN:\\nWe’re doing a nation wide gr...   \n14  It’s time to take over the digital  billboards...   \n17  Biden Crime Family: Another Dynasty of Corrupt...   \n20  #QAnon has recently asserted that Benjamin Net...   \n23  Lots going on behind the scenes of $Trump2024 ...   \n26  Do you get paid to shill for vaccines?\\nOr are...   \n29  WE KNOW THE CIA COINED THE TERM “CONSPIRACY TH...   \n32  We will be cannibalising you on the streets of...   \n\n                                counter_speech_gpt-4o  \\\n5   I can see where concerns about world events co...   \n8   It's understandable to feel concerned about th...   \n11  I appreciate the concern for the well-being of...   \n14  I understand your passion and concern for the ...   \n17  I understand the frustration that can come wit...   \n20  I understand how intriguing such narratives ca...   \n23  I get where you're coming from, the sense of a...   \n26  I understand your concern, and it’s important ...   \n29  Hey there! I get where you're coming from; it'...   \n32  It sounds like you're feeling deeply concerned...   \n\n                                counter_speech_llama3  \\\n5   I understand your concern about the date and t...   \n8   I understand your concerns about President Bid...   \n11  \"I understand the enthusiasm, but let's focus ...   \n14  I understand your frustration with the media a...   \n17  I understand your concerns about the Biden adm...   \n20  I understand your enthusiasm for the QAnon mov...   \n23  \"I understand the excitement and anticipation,...   \n26  I understand your concerns about vaccines, but...   \n29  \"I understand the curiosity behind this questi...   \n32  I understand your concerns and frustrations, b...   \n\n                               counter_speech_mistral  \n5   \"As a history buff like Neil deGrasse Tyson, I...  \n8   Hello there! It's understandable to feel unset...  \n11  In the heart of Washington D.C., Dr. Fauci, a ...  \n14   Martin Luther King Jr., a beacon of hope and ...  \n17  \"Think about the everyday folks, not the 'Crim...  \n20  \"Imagine Benjamin Netanyahu, a leader with a s...  \n23  Encouraging times for those eagerly awaiting p...  \n26  Dear friend, if I was a 'paid shill' for vacci...  \n29  \"Though the CIA may have popularized the term ...  \n32  \"Ah, a vivid vision of the future you paint! A...  ",
      "text/html": "<div>\n<style scoped>\n    .dataframe tbody tr th:only-of-type {\n        vertical-align: middle;\n    }\n\n    .dataframe tbody tr th {\n        vertical-align: top;\n    }\n\n    .dataframe thead th {\n        text-align: right;\n    }\n</style>\n<table border=\"1\" class=\"dataframe\">\n  <thead>\n    <tr style=\"text-align: right;\">\n      <th></th>\n      <th>comment_id</th>\n      <th>tweet_id</th>\n      <th>comment_text</th>\n      <th>counter_speech_gpt-4o</th>\n      <th>counter_speech_llama3</th>\n      <th>counter_speech_mistral</th>\n    </tr>\n  </thead>\n  <tbody>\n    <tr>\n      <th>5</th>\n      <td>6</td>\n      <td>1782499781572739564</td>\n      <td>FOURTEEN OCTOBER TWENTY TWENTY FOUR BEGIN THIR...</td>\n      <td>I can see where concerns about world events co...</td>\n      <td>I understand your concern about the date and t...</td>\n      <td>\"As a history buff like Neil deGrasse Tyson, I...</td>\n    </tr>\n    <tr>\n      <th>8</th>\n      <td>9</td>\n      <td>1781568827693965722</td>\n      <td>Wake up, sheeple!\\nBiden's just a puppet for t...</td>\n      <td>It's understandable to feel concerned about th...</td>\n      <td>I understand your concerns about President Bid...</td>\n      <td>Hello there! It's understandable to feel unset...</td>\n    </tr>\n    <tr>\n      <th>11</th>\n      <td>12</td>\n      <td>1780467566479126845</td>\n      <td>PATRIOTS TAP IN:\\nWe’re doing a nation wide gr...</td>\n      <td>I appreciate the concern for the well-being of...</td>\n      <td>\"I understand the enthusiasm, but let's focus ...</td>\n      <td>In the heart of Washington D.C., Dr. Fauci, a ...</td>\n    </tr>\n    <tr>\n      <th>14</th>\n      <td>15</td>\n      <td>1780332562356768852</td>\n      <td>It’s time to take over the digital  billboards...</td>\n      <td>I understand your passion and concern for the ...</td>\n      <td>I understand your frustration with the media a...</td>\n      <td>Martin Luther King Jr., a beacon of hope and ...</td>\n    </tr>\n    <tr>\n      <th>17</th>\n      <td>18</td>\n      <td>1781689670503661784</td>\n      <td>Biden Crime Family: Another Dynasty of Corrupt...</td>\n      <td>I understand the frustration that can come wit...</td>\n      <td>I understand your concerns about the Biden adm...</td>\n      <td>\"Think about the everyday folks, not the 'Crim...</td>\n    </tr>\n    <tr>\n      <th>20</th>\n      <td>21</td>\n      <td>1793570499446124852</td>\n      <td>#QAnon has recently asserted that Benjamin Net...</td>\n      <td>I understand how intriguing such narratives ca...</td>\n      <td>I understand your enthusiasm for the QAnon mov...</td>\n      <td>\"Imagine Benjamin Netanyahu, a leader with a s...</td>\n    </tr>\n    <tr>\n      <th>23</th>\n      <td>24</td>\n      <td>1792917786236174787</td>\n      <td>Lots going on behind the scenes of $Trump2024 ...</td>\n      <td>I get where you're coming from, the sense of a...</td>\n      <td>\"I understand the excitement and anticipation,...</td>\n      <td>Encouraging times for those eagerly awaiting p...</td>\n    </tr>\n    <tr>\n      <th>26</th>\n      <td>27</td>\n      <td>1794952977985446366</td>\n      <td>Do you get paid to shill for vaccines?\\nOr are...</td>\n      <td>I understand your concern, and it’s important ...</td>\n      <td>I understand your concerns about vaccines, but...</td>\n      <td>Dear friend, if I was a 'paid shill' for vacci...</td>\n    </tr>\n    <tr>\n      <th>29</th>\n      <td>30</td>\n      <td>1792228285360869479</td>\n      <td>WE KNOW THE CIA COINED THE TERM “CONSPIRACY TH...</td>\n      <td>Hey there! I get where you're coming from; it'...</td>\n      <td>\"I understand the curiosity behind this questi...</td>\n      <td>\"Though the CIA may have popularized the term ...</td>\n    </tr>\n    <tr>\n      <th>32</th>\n      <td>33</td>\n      <td>1790012018985971975</td>\n      <td>We will be cannibalising you on the streets of...</td>\n      <td>It sounds like you're feeling deeply concerned...</td>\n      <td>I understand your concerns and frustrations, b...</td>\n      <td>\"Ah, a vivid vision of the future you paint! A...</td>\n    </tr>\n  </tbody>\n</table>\n</div>"
     },
     "execution_count": 14,
     "metadata": {},
     "output_type": "execute_result"
    }
   ],
   "source": [
    "# Load the combined dataset\n",
    "df_merged = pd.read_csv('../data/counterspeech_responses_all_models.csv')\n",
    "\n",
    "# Generate indices starting from 5 and stepping by 3\n",
    "indices = range(5, 95, 3)  \n",
    "\n",
    "# Select the rows based on the computed indices\n",
    "sampled_df = df_merged.iloc[indices]\n",
    "\n",
    "# Verify the sampled data\n",
    "sampled_df.head(10)"
   ],
   "metadata": {
    "collapsed": false,
    "ExecuteTime": {
     "end_time": "2024-08-28T12:21:23.417729Z",
     "start_time": "2024-08-28T12:21:23.090581Z"
    }
   },
   "id": "4526f62b55aee4ef"
  },
  {
   "cell_type": "markdown",
   "source": [
    "#### Skript um die Gegenreden aus den Spalten in Zeilen zu transformieren\n",
    "Um den Datensatz für die Evaluierung nutzbar zu machen, müssen die Gegenreden, die aktuell in separaten Spalten vorliegen, in eine Form gebracht werden, in der jede Gegenrede als einzelne Zeile dargestellt wird. "
   ],
   "metadata": {
    "collapsed": false
   },
   "id": "777c1ab45353a7ba"
  },
  {
   "cell_type": "code",
   "execution_count": 15,
   "outputs": [
    {
     "data": {
      "text/plain": "    comment_id                                       comment_text  \\\n0            6  FOURTEEN OCTOBER TWENTY TWENTY FOUR BEGIN THIR...   \n30           6  FOURTEEN OCTOBER TWENTY TWENTY FOUR BEGIN THIR...   \n60           6  FOURTEEN OCTOBER TWENTY TWENTY FOUR BEGIN THIR...   \n31           9  Wake up, sheeple!\\nBiden's just a puppet for t...   \n61           9  Wake up, sheeple!\\nBiden's just a puppet for t...   \n1            9  Wake up, sheeple!\\nBiden's just a puppet for t...   \n2           12  PATRIOTS TAP IN:\\nWe’re doing a nation wide gr...   \n32          12  PATRIOTS TAP IN:\\nWe’re doing a nation wide gr...   \n62          12  PATRIOTS TAP IN:\\nWe’re doing a nation wide gr...   \n3           15  It’s time to take over the digital  billboards...   \n33          15  It’s time to take over the digital  billboards...   \n63          15  It’s time to take over the digital  billboards...   \n4           18  Biden Crime Family: Another Dynasty of Corrupt...   \n34          18  Biden Crime Family: Another Dynasty of Corrupt...   \n64          18  Biden Crime Family: Another Dynasty of Corrupt...   \n\n                     model                                     counter_speech  \n0    counter_speech_gpt-4o  I can see where concerns about world events co...  \n30   counter_speech_llama3  I understand your concern about the date and t...  \n60  counter_speech_mistral  \"As a history buff like Neil deGrasse Tyson, I...  \n31   counter_speech_llama3  I understand your concerns about President Bid...  \n61  counter_speech_mistral  Hello there! It's understandable to feel unset...  \n1    counter_speech_gpt-4o  It's understandable to feel concerned about th...  \n2    counter_speech_gpt-4o  I appreciate the concern for the well-being of...  \n32   counter_speech_llama3  \"I understand the enthusiasm, but let's focus ...  \n62  counter_speech_mistral  In the heart of Washington D.C., Dr. Fauci, a ...  \n3    counter_speech_gpt-4o  I understand your passion and concern for the ...  \n33   counter_speech_llama3  I understand your frustration with the media a...  \n63  counter_speech_mistral   Martin Luther King Jr., a beacon of hope and ...  \n4    counter_speech_gpt-4o  I understand the frustration that can come wit...  \n34   counter_speech_llama3  I understand your concerns about the Biden adm...  \n64  counter_speech_mistral  \"Think about the everyday folks, not the 'Crim...  ",
      "text/html": "<div>\n<style scoped>\n    .dataframe tbody tr th:only-of-type {\n        vertical-align: middle;\n    }\n\n    .dataframe tbody tr th {\n        vertical-align: top;\n    }\n\n    .dataframe thead th {\n        text-align: right;\n    }\n</style>\n<table border=\"1\" class=\"dataframe\">\n  <thead>\n    <tr style=\"text-align: right;\">\n      <th></th>\n      <th>comment_id</th>\n      <th>comment_text</th>\n      <th>model</th>\n      <th>counter_speech</th>\n    </tr>\n  </thead>\n  <tbody>\n    <tr>\n      <th>0</th>\n      <td>6</td>\n      <td>FOURTEEN OCTOBER TWENTY TWENTY FOUR BEGIN THIR...</td>\n      <td>counter_speech_gpt-4o</td>\n      <td>I can see where concerns about world events co...</td>\n    </tr>\n    <tr>\n      <th>30</th>\n      <td>6</td>\n      <td>FOURTEEN OCTOBER TWENTY TWENTY FOUR BEGIN THIR...</td>\n      <td>counter_speech_llama3</td>\n      <td>I understand your concern about the date and t...</td>\n    </tr>\n    <tr>\n      <th>60</th>\n      <td>6</td>\n      <td>FOURTEEN OCTOBER TWENTY TWENTY FOUR BEGIN THIR...</td>\n      <td>counter_speech_mistral</td>\n      <td>\"As a history buff like Neil deGrasse Tyson, I...</td>\n    </tr>\n    <tr>\n      <th>31</th>\n      <td>9</td>\n      <td>Wake up, sheeple!\\nBiden's just a puppet for t...</td>\n      <td>counter_speech_llama3</td>\n      <td>I understand your concerns about President Bid...</td>\n    </tr>\n    <tr>\n      <th>61</th>\n      <td>9</td>\n      <td>Wake up, sheeple!\\nBiden's just a puppet for t...</td>\n      <td>counter_speech_mistral</td>\n      <td>Hello there! It's understandable to feel unset...</td>\n    </tr>\n    <tr>\n      <th>1</th>\n      <td>9</td>\n      <td>Wake up, sheeple!\\nBiden's just a puppet for t...</td>\n      <td>counter_speech_gpt-4o</td>\n      <td>It's understandable to feel concerned about th...</td>\n    </tr>\n    <tr>\n      <th>2</th>\n      <td>12</td>\n      <td>PATRIOTS TAP IN:\\nWe’re doing a nation wide gr...</td>\n      <td>counter_speech_gpt-4o</td>\n      <td>I appreciate the concern for the well-being of...</td>\n    </tr>\n    <tr>\n      <th>32</th>\n      <td>12</td>\n      <td>PATRIOTS TAP IN:\\nWe’re doing a nation wide gr...</td>\n      <td>counter_speech_llama3</td>\n      <td>\"I understand the enthusiasm, but let's focus ...</td>\n    </tr>\n    <tr>\n      <th>62</th>\n      <td>12</td>\n      <td>PATRIOTS TAP IN:\\nWe’re doing a nation wide gr...</td>\n      <td>counter_speech_mistral</td>\n      <td>In the heart of Washington D.C., Dr. Fauci, a ...</td>\n    </tr>\n    <tr>\n      <th>3</th>\n      <td>15</td>\n      <td>It’s time to take over the digital  billboards...</td>\n      <td>counter_speech_gpt-4o</td>\n      <td>I understand your passion and concern for the ...</td>\n    </tr>\n    <tr>\n      <th>33</th>\n      <td>15</td>\n      <td>It’s time to take over the digital  billboards...</td>\n      <td>counter_speech_llama3</td>\n      <td>I understand your frustration with the media a...</td>\n    </tr>\n    <tr>\n      <th>63</th>\n      <td>15</td>\n      <td>It’s time to take over the digital  billboards...</td>\n      <td>counter_speech_mistral</td>\n      <td>Martin Luther King Jr., a beacon of hope and ...</td>\n    </tr>\n    <tr>\n      <th>4</th>\n      <td>18</td>\n      <td>Biden Crime Family: Another Dynasty of Corrupt...</td>\n      <td>counter_speech_gpt-4o</td>\n      <td>I understand the frustration that can come wit...</td>\n    </tr>\n    <tr>\n      <th>34</th>\n      <td>18</td>\n      <td>Biden Crime Family: Another Dynasty of Corrupt...</td>\n      <td>counter_speech_llama3</td>\n      <td>I understand your concerns about the Biden adm...</td>\n    </tr>\n    <tr>\n      <th>64</th>\n      <td>18</td>\n      <td>Biden Crime Family: Another Dynasty of Corrupt...</td>\n      <td>counter_speech_mistral</td>\n      <td>\"Think about the everyday folks, not the 'Crim...</td>\n    </tr>\n  </tbody>\n</table>\n</div>"
     },
     "execution_count": 15,
     "metadata": {},
     "output_type": "execute_result"
    }
   ],
   "source": [
    "# Transform the counter_speech columns into rows\n",
    "melted_data = sampled_df.melt(id_vars=['comment_id', 'comment_text'],\n",
    "                              value_vars=['counter_speech_gpt-4o', 'counter_speech_llama3', 'counter_speech_mistral'],\n",
    "                              var_name='model', value_name='counter_speech')\n",
    "\n",
    "# Sort the data by 'comment_id'\n",
    "sorted_melted_data = melted_data.sort_values(by='comment_id')\n",
    "\n",
    "# Display the sorted, melted data\n",
    "sorted_melted_data.head(15)"
   ],
   "metadata": {
    "collapsed": false,
    "ExecuteTime": {
     "end_time": "2024-08-28T12:21:58.322155Z",
     "start_time": "2024-08-28T12:21:58.286497Z"
    }
   },
   "id": "90f2f434e23fafd9"
  },
  {
   "cell_type": "markdown",
   "source": [
    "#### Hinzufügen von Bewertungskriterien-Spalten\n",
    "\n",
    "In diesem Schritt werden neue Spalten zum DataFrame hinzugefügt, um die Bewertungskriterien für die Gegenreden zu erfassen. Diese Spalten sind speziell für die manuelle Evaluierung vorgesehen und umfassen die folgenden Kriterien:\n",
    "\n",
    "- `empathy_factor`: Bewerten des Empathiefaktors der Antwort.\n",
    "- `fidelity_to_facts`: Beurteilung der Faktentreue.\n",
    "- `tone`: Bewertung des Tons der Antwort.\n",
    "- `clarity_of_argumentation`: Einschätzung der Klarheit der Argumentation.\n",
    "- `successful_use_of_storytelling`: Bewertung der erfolgreichen Nutzung von Storytelling-Elementen.\n",
    "\n",
    "Zunächst werden diese Spalten mit dem Wert `NA` initialisiert, was anzeigt, dass sie noch nicht bewertet wurden. Diese Struktur bereitet den DataFrame für die nachfolgende detaillierte Bewertung der einzelnen Gegenreden vor."
   ],
   "metadata": {
    "collapsed": false
   },
   "id": "e0415cc0f573bb3f"
  },
  {
   "cell_type": "code",
   "execution_count": 16,
   "outputs": [
    {
     "data": {
      "text/plain": "    comment_id                                       comment_text  \\\n0            6  FOURTEEN OCTOBER TWENTY TWENTY FOUR BEGIN THIR...   \n30           6  FOURTEEN OCTOBER TWENTY TWENTY FOUR BEGIN THIR...   \n60           6  FOURTEEN OCTOBER TWENTY TWENTY FOUR BEGIN THIR...   \n31           9  Wake up, sheeple!\\nBiden's just a puppet for t...   \n61           9  Wake up, sheeple!\\nBiden's just a puppet for t...   \n1            9  Wake up, sheeple!\\nBiden's just a puppet for t...   \n2           12  PATRIOTS TAP IN:\\nWe’re doing a nation wide gr...   \n32          12  PATRIOTS TAP IN:\\nWe’re doing a nation wide gr...   \n62          12  PATRIOTS TAP IN:\\nWe’re doing a nation wide gr...   \n3           15  It’s time to take over the digital  billboards...   \n\n                     model                                     counter_speech  \\\n0    counter_speech_gpt-4o  I can see where concerns about world events co...   \n30   counter_speech_llama3  I understand your concern about the date and t...   \n60  counter_speech_mistral  \"As a history buff like Neil deGrasse Tyson, I...   \n31   counter_speech_llama3  I understand your concerns about President Bid...   \n61  counter_speech_mistral  Hello there! It's understandable to feel unset...   \n1    counter_speech_gpt-4o  It's understandable to feel concerned about th...   \n2    counter_speech_gpt-4o  I appreciate the concern for the well-being of...   \n32   counter_speech_llama3  \"I understand the enthusiasm, but let's focus ...   \n62  counter_speech_mistral  In the heart of Washington D.C., Dr. Fauci, a ...   \n3    counter_speech_gpt-4o  I understand your passion and concern for the ...   \n\n   empathy_factor fidelity_to_facts  tone clarity_of_argumentation  \\\n0            <NA>              <NA>  <NA>                     <NA>   \n30           <NA>              <NA>  <NA>                     <NA>   \n60           <NA>              <NA>  <NA>                     <NA>   \n31           <NA>              <NA>  <NA>                     <NA>   \n61           <NA>              <NA>  <NA>                     <NA>   \n1            <NA>              <NA>  <NA>                     <NA>   \n2            <NA>              <NA>  <NA>                     <NA>   \n32           <NA>              <NA>  <NA>                     <NA>   \n62           <NA>              <NA>  <NA>                     <NA>   \n3            <NA>              <NA>  <NA>                     <NA>   \n\n   successful_use_of_storytelling  \n0                            <NA>  \n30                           <NA>  \n60                           <NA>  \n31                           <NA>  \n61                           <NA>  \n1                            <NA>  \n2                            <NA>  \n32                           <NA>  \n62                           <NA>  \n3                            <NA>  ",
      "text/html": "<div>\n<style scoped>\n    .dataframe tbody tr th:only-of-type {\n        vertical-align: middle;\n    }\n\n    .dataframe tbody tr th {\n        vertical-align: top;\n    }\n\n    .dataframe thead th {\n        text-align: right;\n    }\n</style>\n<table border=\"1\" class=\"dataframe\">\n  <thead>\n    <tr style=\"text-align: right;\">\n      <th></th>\n      <th>comment_id</th>\n      <th>comment_text</th>\n      <th>model</th>\n      <th>counter_speech</th>\n      <th>empathy_factor</th>\n      <th>fidelity_to_facts</th>\n      <th>tone</th>\n      <th>clarity_of_argumentation</th>\n      <th>successful_use_of_storytelling</th>\n    </tr>\n  </thead>\n  <tbody>\n    <tr>\n      <th>0</th>\n      <td>6</td>\n      <td>FOURTEEN OCTOBER TWENTY TWENTY FOUR BEGIN THIR...</td>\n      <td>counter_speech_gpt-4o</td>\n      <td>I can see where concerns about world events co...</td>\n      <td>&lt;NA&gt;</td>\n      <td>&lt;NA&gt;</td>\n      <td>&lt;NA&gt;</td>\n      <td>&lt;NA&gt;</td>\n      <td>&lt;NA&gt;</td>\n    </tr>\n    <tr>\n      <th>30</th>\n      <td>6</td>\n      <td>FOURTEEN OCTOBER TWENTY TWENTY FOUR BEGIN THIR...</td>\n      <td>counter_speech_llama3</td>\n      <td>I understand your concern about the date and t...</td>\n      <td>&lt;NA&gt;</td>\n      <td>&lt;NA&gt;</td>\n      <td>&lt;NA&gt;</td>\n      <td>&lt;NA&gt;</td>\n      <td>&lt;NA&gt;</td>\n    </tr>\n    <tr>\n      <th>60</th>\n      <td>6</td>\n      <td>FOURTEEN OCTOBER TWENTY TWENTY FOUR BEGIN THIR...</td>\n      <td>counter_speech_mistral</td>\n      <td>\"As a history buff like Neil deGrasse Tyson, I...</td>\n      <td>&lt;NA&gt;</td>\n      <td>&lt;NA&gt;</td>\n      <td>&lt;NA&gt;</td>\n      <td>&lt;NA&gt;</td>\n      <td>&lt;NA&gt;</td>\n    </tr>\n    <tr>\n      <th>31</th>\n      <td>9</td>\n      <td>Wake up, sheeple!\\nBiden's just a puppet for t...</td>\n      <td>counter_speech_llama3</td>\n      <td>I understand your concerns about President Bid...</td>\n      <td>&lt;NA&gt;</td>\n      <td>&lt;NA&gt;</td>\n      <td>&lt;NA&gt;</td>\n      <td>&lt;NA&gt;</td>\n      <td>&lt;NA&gt;</td>\n    </tr>\n    <tr>\n      <th>61</th>\n      <td>9</td>\n      <td>Wake up, sheeple!\\nBiden's just a puppet for t...</td>\n      <td>counter_speech_mistral</td>\n      <td>Hello there! It's understandable to feel unset...</td>\n      <td>&lt;NA&gt;</td>\n      <td>&lt;NA&gt;</td>\n      <td>&lt;NA&gt;</td>\n      <td>&lt;NA&gt;</td>\n      <td>&lt;NA&gt;</td>\n    </tr>\n    <tr>\n      <th>1</th>\n      <td>9</td>\n      <td>Wake up, sheeple!\\nBiden's just a puppet for t...</td>\n      <td>counter_speech_gpt-4o</td>\n      <td>It's understandable to feel concerned about th...</td>\n      <td>&lt;NA&gt;</td>\n      <td>&lt;NA&gt;</td>\n      <td>&lt;NA&gt;</td>\n      <td>&lt;NA&gt;</td>\n      <td>&lt;NA&gt;</td>\n    </tr>\n    <tr>\n      <th>2</th>\n      <td>12</td>\n      <td>PATRIOTS TAP IN:\\nWe’re doing a nation wide gr...</td>\n      <td>counter_speech_gpt-4o</td>\n      <td>I appreciate the concern for the well-being of...</td>\n      <td>&lt;NA&gt;</td>\n      <td>&lt;NA&gt;</td>\n      <td>&lt;NA&gt;</td>\n      <td>&lt;NA&gt;</td>\n      <td>&lt;NA&gt;</td>\n    </tr>\n    <tr>\n      <th>32</th>\n      <td>12</td>\n      <td>PATRIOTS TAP IN:\\nWe’re doing a nation wide gr...</td>\n      <td>counter_speech_llama3</td>\n      <td>\"I understand the enthusiasm, but let's focus ...</td>\n      <td>&lt;NA&gt;</td>\n      <td>&lt;NA&gt;</td>\n      <td>&lt;NA&gt;</td>\n      <td>&lt;NA&gt;</td>\n      <td>&lt;NA&gt;</td>\n    </tr>\n    <tr>\n      <th>62</th>\n      <td>12</td>\n      <td>PATRIOTS TAP IN:\\nWe’re doing a nation wide gr...</td>\n      <td>counter_speech_mistral</td>\n      <td>In the heart of Washington D.C., Dr. Fauci, a ...</td>\n      <td>&lt;NA&gt;</td>\n      <td>&lt;NA&gt;</td>\n      <td>&lt;NA&gt;</td>\n      <td>&lt;NA&gt;</td>\n      <td>&lt;NA&gt;</td>\n    </tr>\n    <tr>\n      <th>3</th>\n      <td>15</td>\n      <td>It’s time to take over the digital  billboards...</td>\n      <td>counter_speech_gpt-4o</td>\n      <td>I understand your passion and concern for the ...</td>\n      <td>&lt;NA&gt;</td>\n      <td>&lt;NA&gt;</td>\n      <td>&lt;NA&gt;</td>\n      <td>&lt;NA&gt;</td>\n      <td>&lt;NA&gt;</td>\n    </tr>\n  </tbody>\n</table>\n</div>"
     },
     "execution_count": 16,
     "metadata": {},
     "output_type": "execute_result"
    }
   ],
   "source": [
    "# Adding new columns with initial values set to NaN for manual evaluation\n",
    "sorted_melted_data['empathy_factor'] = pd.NA\n",
    "sorted_melted_data['fidelity_to_facts'] = pd.NA\n",
    "sorted_melted_data['tone'] = pd.NA\n",
    "sorted_melted_data['clarity_of_argumentation'] = pd.NA\n",
    "sorted_melted_data['successful_use_of_storytelling'] = pd.NA\n",
    "\n",
    "# Save the updated DataFrame to a CSV file\n",
    "sorted_melted_data.to_csv('../data/evaluation/counterspeech_90_samples_to_evaluate.csv', index=False)\n",
    "\n",
    "# Display the updated DataFrame to verify the new columns\n",
    "sorted_melted_data.head(10)"
   ],
   "metadata": {
    "collapsed": false,
    "ExecuteTime": {
     "end_time": "2024-08-28T12:22:31.271466Z",
     "start_time": "2024-08-28T12:22:31.234327Z"
    }
   },
   "id": "3d10cf2bbcb680fd"
  },
  {
   "cell_type": "code",
   "execution_count": null,
   "outputs": [],
   "source": [],
   "metadata": {
    "collapsed": false
   },
   "id": "24fa3a6dc2968175"
  }
 ],
 "metadata": {
  "kernelspec": {
   "display_name": "Python 3",
   "language": "python",
   "name": "python3"
  },
  "language_info": {
   "codemirror_mode": {
    "name": "ipython",
    "version": 2
   },
   "file_extension": ".py",
   "mimetype": "text/x-python",
   "name": "python",
   "nbconvert_exporter": "python",
   "pygments_lexer": "ipython2",
   "version": "2.7.6"
  }
 },
 "nbformat": 4,
 "nbformat_minor": 5
}
